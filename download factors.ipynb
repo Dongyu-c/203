{
 "cells": [
  {
   "cell_type": "code",
   "execution_count": 1,
   "id": "1a24edf5-249d-4934-aaea-2528557aa091",
   "metadata": {
    "scrolled": true
   },
   "outputs": [
    {
     "name": "stdout",
     "output_type": "stream",
     "text": [
      "YPF\n",
      "YRD\n",
      "YUM\n",
      "YUMC\n",
      "ZBH\n",
      "ZDGE\n",
      "ZOM\n",
      "ZTO\n",
      "ZTR\n",
      "ZTS\n",
      "ZUO\n",
      "ZYME\n"
     ]
    }
   ],
   "source": [
    "import pandas as pd\n",
    "\n",
    "\n",
    "from scipy.stats import zscore\n",
    "\n",
    "import requests\n",
    "\n",
    "from bs4 import BeautifulSoup\n",
    "\n",
    "adj_closes  = pd.read_csv ('adj_closes.csv')\n",
    "adj_closes = adj_closes.set_index('Date')\n",
    "code_list = adj_closes.columns.to_list()\n",
    "\n",
    "urls = [\n",
    "    'https://finance.yahoo.com/quote/{ticker}/financials?p={ticker}',\n",
    "    'https://finance.yahoo.com/quote/{ticker}/balance-sheet?p={ticker}',\n",
    "    # 'https://finance.yahoo.com/quote/{ticker}/cash-flow?p={ticker}'\n",
    "]\n",
    "\n",
    "headers = {'User-Agent': 'Mozilla/5.0 (X11; Ubuntu; Linux x86_64; rv:109.0) Gecko/20100101 Firefox/114.0'}\n",
    "\n",
    "def get_soup(url):\n",
    "    r = requests.get(url, headers=headers)\n",
    "    return BeautifulSoup(r.content, 'html.parser')\n",
    "\n",
    "file = open('tempcode.txt','r')\n",
    "start = file.read()\n",
    "file.close()\n",
    "\n",
    "for ticker in code_list[code_list.index(start):]:\n",
    "# for ticker in code_list[0:]:\n",
    "    all_data = []\n",
    "    k = ticker\n",
    "    print(ticker)\n",
    "    \n",
    "    f = open(\"tempcode.txt\", \"a\")\n",
    "    f.truncate(0)\n",
    "    f.write(ticker)\n",
    "    f.close()\n",
    "    \n",
    "    for url in urls:\n",
    "        try:\n",
    "            \n",
    "            \n",
    "            soup = get_soup(url.format(ticker=ticker))\n",
    "            \n",
    "            table = soup.select_one('.BdT')\n",
    "            \n",
    "            for row in table.select('.D\\(tbr\\)'):\n",
    "                data = [cell.text for cell in row.select('.Ta\\(c\\), .Ta\\(start\\)')]\n",
    "                all_data.append(data)\n",
    "            \n",
    "            \n",
    "        except:\n",
    "            continue\n",
    "    if all_data == []:\n",
    "        print(ticker, \", No Data\")\n",
    "    else:\n",
    "        try:\n",
    "            df1 = pd.DataFrame(all_data[1:], columns=all_data[0])\n",
    "            df1.to_csv(\"./all factors/\"+ticker+'.csv')\n",
    "        except:\n",
    "            print(\"Invalid convert\")"
   ]
  },
  {
   "cell_type": "code",
   "execution_count": null,
   "id": "1dd62c84-dbdf-48cd-a70b-396d3c150fb2",
   "metadata": {},
   "outputs": [],
   "source": []
  }
 ],
 "metadata": {
  "kernelspec": {
   "display_name": "Python 3 (ipykernel)",
   "language": "python",
   "name": "python3"
  },
  "language_info": {
   "codemirror_mode": {
    "name": "ipython",
    "version": 3
   },
   "file_extension": ".py",
   "mimetype": "text/x-python",
   "name": "python",
   "nbconvert_exporter": "python",
   "pygments_lexer": "ipython3",
   "version": "3.11.3"
  }
 },
 "nbformat": 4,
 "nbformat_minor": 5
}
